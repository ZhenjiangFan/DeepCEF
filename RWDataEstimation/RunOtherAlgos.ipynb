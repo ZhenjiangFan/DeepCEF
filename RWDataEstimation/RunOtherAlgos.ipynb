{
 "cells": [
  {
   "cell_type": "code",
   "execution_count": 1,
   "id": "01cfcddf-8447-4718-a675-a895de96cf25",
   "metadata": {
    "tags": []
   },
   "outputs": [
    {
     "name": "stderr",
     "output_type": "stream",
     "text": [
      "/Users/fzhenjiang/anaconda3/lib/python3.11/site-packages/pandas/core/arrays/masked.py:60: UserWarning: Pandas requires version '1.3.6' or newer of 'bottleneck' (version '1.3.5' currently installed).\n",
      "  from pandas.core import (\n"
     ]
    }
   ],
   "source": [
    "from networkx import DiGraph, erdos_renyi_graph, is_directed_acyclic_graph\n",
    "import numpy as np\n",
    "import pandas as pd\n",
    "\n",
    "from causallearn.graph.Dag import Dag\n",
    "from causallearn.graph.GraphNode import GraphNode\n",
    "from causallearn.search.ConstraintBased.FCI import fci\n",
    "from causallearn.utils.cit import chisq, fisherz, kci, d_separation\n",
    "from causallearn.utils.DAG2PAG import dag2pag\n",
    "from causallearn.utils.GraphUtils import GraphUtils\n",
    "from causallearn.utils.PCUtils.BackgroundKnowledge import BackgroundKnowledge\n",
    "\n",
    "from causallearn.search.ScoreBased.GES import ges\n",
    "from causallearn.search.ConstraintBased.PC import pc\n",
    "\n",
    "import matplotlib.pyplot as plt\n",
    "from matplotlib.pyplot import figure\n",
    "import seaborn as sns"
   ]
  },
  {
   "cell_type": "code",
   "execution_count": null,
   "id": "05f89556-8ff8-46a9-b59f-dca337b28adf",
   "metadata": {
    "tags": []
   },
   "outputs": [],
   "source": []
  },
  {
   "cell_type": "code",
   "execution_count": 6,
   "id": "75b01f4c-d7a4-487e-bd39-4413f065232a",
   "metadata": {},
   "outputs": [
    {
     "data": {
      "text/html": [
       "<div>\n",
       "<style scoped>\n",
       "    .dataframe tbody tr th:only-of-type {\n",
       "        vertical-align: middle;\n",
       "    }\n",
       "\n",
       "    .dataframe tbody tr th {\n",
       "        vertical-align: top;\n",
       "    }\n",
       "\n",
       "    .dataframe thead th {\n",
       "        text-align: right;\n",
       "    }\n",
       "</style>\n",
       "<table border=\"1\" class=\"dataframe\">\n",
       "  <thead>\n",
       "    <tr style=\"text-align: right;\">\n",
       "      <th></th>\n",
       "      <th>CLEC3A</th>\n",
       "      <th>CPB1</th>\n",
       "      <th>SCGB2A2</th>\n",
       "      <th>SCGB1D2</th>\n",
       "      <th>TFF1</th>\n",
       "      <th>GSTM1</th>\n",
       "      <th>PIP</th>\n",
       "      <th>S100A7</th>\n",
       "      <th>MUCL1</th>\n",
       "      <th>CYP2B7P1</th>\n",
       "      <th>...</th>\n",
       "      <th>COL9A3</th>\n",
       "      <th>IRX1</th>\n",
       "      <th>AFP</th>\n",
       "      <th>LOC339535</th>\n",
       "      <th>PDZK1IP1</th>\n",
       "      <th>LOC84740</th>\n",
       "      <th>LOC440905</th>\n",
       "      <th>CDH1</th>\n",
       "      <th>ERBB2</th>\n",
       "      <th>PAM50Call_RNAseq</th>\n",
       "    </tr>\n",
       "  </thead>\n",
       "  <tbody>\n",
       "    <tr>\n",
       "      <th>0</th>\n",
       "      <td>1.7015</td>\n",
       "      <td>6.6126</td>\n",
       "      <td>8.3479</td>\n",
       "      <td>7.7986</td>\n",
       "      <td>2.5742</td>\n",
       "      <td>0.0000</td>\n",
       "      <td>5.5251</td>\n",
       "      <td>0.0000</td>\n",
       "      <td>4.8089</td>\n",
       "      <td>1.8887</td>\n",
       "      <td>...</td>\n",
       "      <td>9.3336</td>\n",
       "      <td>8.3217</td>\n",
       "      <td>0.0000</td>\n",
       "      <td>7.2256</td>\n",
       "      <td>7.2343</td>\n",
       "      <td>4.2191</td>\n",
       "      <td>6.0709</td>\n",
       "      <td>14.5226</td>\n",
       "      <td>12.7126</td>\n",
       "      <td>1</td>\n",
       "    </tr>\n",
       "    <tr>\n",
       "      <th>1</th>\n",
       "      <td>4.0415</td>\n",
       "      <td>6.2547</td>\n",
       "      <td>10.8725</td>\n",
       "      <td>9.9367</td>\n",
       "      <td>13.1286</td>\n",
       "      <td>12.6025</td>\n",
       "      <td>7.3682</td>\n",
       "      <td>0.0000</td>\n",
       "      <td>10.6232</td>\n",
       "      <td>6.3334</td>\n",
       "      <td>...</td>\n",
       "      <td>5.9591</td>\n",
       "      <td>8.3767</td>\n",
       "      <td>1.2118</td>\n",
       "      <td>0.4104</td>\n",
       "      <td>8.7694</td>\n",
       "      <td>2.5703</td>\n",
       "      <td>6.1650</td>\n",
       "      <td>13.3517</td>\n",
       "      <td>13.1849</td>\n",
       "      <td>2</td>\n",
       "    </tr>\n",
       "    <tr>\n",
       "      <th>2</th>\n",
       "      <td>0.8928</td>\n",
       "      <td>6.5801</td>\n",
       "      <td>14.1237</td>\n",
       "      <td>10.6065</td>\n",
       "      <td>13.1892</td>\n",
       "      <td>10.5203</td>\n",
       "      <td>10.3385</td>\n",
       "      <td>0.0000</td>\n",
       "      <td>6.6495</td>\n",
       "      <td>8.7548</td>\n",
       "      <td>...</td>\n",
       "      <td>5.7351</td>\n",
       "      <td>7.9251</td>\n",
       "      <td>1.1923</td>\n",
       "      <td>2.2796</td>\n",
       "      <td>7.8969</td>\n",
       "      <td>3.2608</td>\n",
       "      <td>10.1397</td>\n",
       "      <td>13.9822</td>\n",
       "      <td>12.9618</td>\n",
       "      <td>2</td>\n",
       "    </tr>\n",
       "    <tr>\n",
       "      <th>3</th>\n",
       "      <td>0.0000</td>\n",
       "      <td>3.6913</td>\n",
       "      <td>17.1161</td>\n",
       "      <td>15.5172</td>\n",
       "      <td>9.8676</td>\n",
       "      <td>8.1795</td>\n",
       "      <td>7.9117</td>\n",
       "      <td>0.4449</td>\n",
       "      <td>9.6917</td>\n",
       "      <td>5.6983</td>\n",
       "      <td>...</td>\n",
       "      <td>6.5462</td>\n",
       "      <td>7.8543</td>\n",
       "      <td>3.5649</td>\n",
       "      <td>1.2896</td>\n",
       "      <td>6.4660</td>\n",
       "      <td>2.4181</td>\n",
       "      <td>5.8774</td>\n",
       "      <td>13.2457</td>\n",
       "      <td>14.1351</td>\n",
       "      <td>2</td>\n",
       "    </tr>\n",
       "    <tr>\n",
       "      <th>4</th>\n",
       "      <td>11.8279</td>\n",
       "      <td>6.9578</td>\n",
       "      <td>10.0564</td>\n",
       "      <td>5.5244</td>\n",
       "      <td>4.2665</td>\n",
       "      <td>0.9130</td>\n",
       "      <td>10.6559</td>\n",
       "      <td>0.0000</td>\n",
       "      <td>14.8774</td>\n",
       "      <td>8.0641</td>\n",
       "      <td>...</td>\n",
       "      <td>5.9106</td>\n",
       "      <td>5.2731</td>\n",
       "      <td>5.3992</td>\n",
       "      <td>4.8849</td>\n",
       "      <td>9.4650</td>\n",
       "      <td>3.7149</td>\n",
       "      <td>2.4368</td>\n",
       "      <td>13.3157</td>\n",
       "      <td>12.1305</td>\n",
       "      <td>3</td>\n",
       "    </tr>\n",
       "    <tr>\n",
       "      <th>...</th>\n",
       "      <td>...</td>\n",
       "      <td>...</td>\n",
       "      <td>...</td>\n",
       "      <td>...</td>\n",
       "      <td>...</td>\n",
       "      <td>...</td>\n",
       "      <td>...</td>\n",
       "      <td>...</td>\n",
       "      <td>...</td>\n",
       "      <td>...</td>\n",
       "      <td>...</td>\n",
       "      <td>...</td>\n",
       "      <td>...</td>\n",
       "      <td>...</td>\n",
       "      <td>...</td>\n",
       "      <td>...</td>\n",
       "      <td>...</td>\n",
       "      <td>...</td>\n",
       "      <td>...</td>\n",
       "      <td>...</td>\n",
       "      <td>...</td>\n",
       "    </tr>\n",
       "    <tr>\n",
       "      <th>596</th>\n",
       "      <td>0.0000</td>\n",
       "      <td>4.0715</td>\n",
       "      <td>3.1285</td>\n",
       "      <td>5.4674</td>\n",
       "      <td>0.0000</td>\n",
       "      <td>7.6400</td>\n",
       "      <td>2.9592</td>\n",
       "      <td>2.5462</td>\n",
       "      <td>0.7184</td>\n",
       "      <td>2.3772</td>\n",
       "      <td>...</td>\n",
       "      <td>6.1955</td>\n",
       "      <td>1.3860</td>\n",
       "      <td>0.4035</td>\n",
       "      <td>6.1438</td>\n",
       "      <td>11.5044</td>\n",
       "      <td>9.8210</td>\n",
       "      <td>5.9083</td>\n",
       "      <td>12.1229</td>\n",
       "      <td>11.6357</td>\n",
       "      <td>4</td>\n",
       "    </tr>\n",
       "    <tr>\n",
       "      <th>597</th>\n",
       "      <td>3.1862</td>\n",
       "      <td>11.6245</td>\n",
       "      <td>8.0968</td>\n",
       "      <td>4.8590</td>\n",
       "      <td>9.6830</td>\n",
       "      <td>0.0000</td>\n",
       "      <td>4.1047</td>\n",
       "      <td>0.7443</td>\n",
       "      <td>9.2764</td>\n",
       "      <td>10.6440</td>\n",
       "      <td>...</td>\n",
       "      <td>7.9311</td>\n",
       "      <td>5.7368</td>\n",
       "      <td>1.2328</td>\n",
       "      <td>2.6784</td>\n",
       "      <td>4.5618</td>\n",
       "      <td>1.8944</td>\n",
       "      <td>6.4104</td>\n",
       "      <td>14.7650</td>\n",
       "      <td>14.0283</td>\n",
       "      <td>2</td>\n",
       "    </tr>\n",
       "    <tr>\n",
       "      <th>598</th>\n",
       "      <td>15.5830</td>\n",
       "      <td>10.1516</td>\n",
       "      <td>15.6385</td>\n",
       "      <td>14.1262</td>\n",
       "      <td>12.4475</td>\n",
       "      <td>2.5281</td>\n",
       "      <td>12.7570</td>\n",
       "      <td>2.3597</td>\n",
       "      <td>16.5419</td>\n",
       "      <td>12.1057</td>\n",
       "      <td>...</td>\n",
       "      <td>4.5782</td>\n",
       "      <td>3.8431</td>\n",
       "      <td>0.9662</td>\n",
       "      <td>2.2674</td>\n",
       "      <td>11.6040</td>\n",
       "      <td>3.4868</td>\n",
       "      <td>4.8567</td>\n",
       "      <td>14.0134</td>\n",
       "      <td>12.7355</td>\n",
       "      <td>2</td>\n",
       "    </tr>\n",
       "    <tr>\n",
       "      <th>599</th>\n",
       "      <td>4.0102</td>\n",
       "      <td>19.2823</td>\n",
       "      <td>12.6806</td>\n",
       "      <td>10.2340</td>\n",
       "      <td>7.4761</td>\n",
       "      <td>7.0284</td>\n",
       "      <td>5.7131</td>\n",
       "      <td>1.8151</td>\n",
       "      <td>9.9208</td>\n",
       "      <td>9.0875</td>\n",
       "      <td>...</td>\n",
       "      <td>5.6524</td>\n",
       "      <td>6.4608</td>\n",
       "      <td>1.2865</td>\n",
       "      <td>4.9311</td>\n",
       "      <td>6.4067</td>\n",
       "      <td>3.3265</td>\n",
       "      <td>6.0473</td>\n",
       "      <td>15.2450</td>\n",
       "      <td>12.4689</td>\n",
       "      <td>2</td>\n",
       "    </tr>\n",
       "    <tr>\n",
       "      <th>600</th>\n",
       "      <td>0.0000</td>\n",
       "      <td>5.0938</td>\n",
       "      <td>15.9997</td>\n",
       "      <td>13.8440</td>\n",
       "      <td>11.5395</td>\n",
       "      <td>1.0738</td>\n",
       "      <td>13.3009</td>\n",
       "      <td>1.4101</td>\n",
       "      <td>13.1395</td>\n",
       "      <td>9.8408</td>\n",
       "      <td>...</td>\n",
       "      <td>2.9316</td>\n",
       "      <td>8.2779</td>\n",
       "      <td>1.0738</td>\n",
       "      <td>4.5639</td>\n",
       "      <td>9.8853</td>\n",
       "      <td>3.5253</td>\n",
       "      <td>4.9465</td>\n",
       "      <td>12.4367</td>\n",
       "      <td>12.8286</td>\n",
       "      <td>1</td>\n",
       "    </tr>\n",
       "  </tbody>\n",
       "</table>\n",
       "<p>601 rows × 503 columns</p>\n",
       "</div>"
      ],
      "text/plain": [
       "      CLEC3A     CPB1  SCGB2A2  SCGB1D2     TFF1    GSTM1      PIP  S100A7  \\\n",
       "0     1.7015   6.6126   8.3479   7.7986   2.5742   0.0000   5.5251  0.0000   \n",
       "1     4.0415   6.2547  10.8725   9.9367  13.1286  12.6025   7.3682  0.0000   \n",
       "2     0.8928   6.5801  14.1237  10.6065  13.1892  10.5203  10.3385  0.0000   \n",
       "3     0.0000   3.6913  17.1161  15.5172   9.8676   8.1795   7.9117  0.4449   \n",
       "4    11.8279   6.9578  10.0564   5.5244   4.2665   0.9130  10.6559  0.0000   \n",
       "..       ...      ...      ...      ...      ...      ...      ...     ...   \n",
       "596   0.0000   4.0715   3.1285   5.4674   0.0000   7.6400   2.9592  2.5462   \n",
       "597   3.1862  11.6245   8.0968   4.8590   9.6830   0.0000   4.1047  0.7443   \n",
       "598  15.5830  10.1516  15.6385  14.1262  12.4475   2.5281  12.7570  2.3597   \n",
       "599   4.0102  19.2823  12.6806  10.2340   7.4761   7.0284   5.7131  1.8151   \n",
       "600   0.0000   5.0938  15.9997  13.8440  11.5395   1.0738  13.3009  1.4101   \n",
       "\n",
       "       MUCL1  CYP2B7P1  ...  COL9A3    IRX1     AFP  LOC339535  PDZK1IP1  \\\n",
       "0     4.8089    1.8887  ...  9.3336  8.3217  0.0000     7.2256    7.2343   \n",
       "1    10.6232    6.3334  ...  5.9591  8.3767  1.2118     0.4104    8.7694   \n",
       "2     6.6495    8.7548  ...  5.7351  7.9251  1.1923     2.2796    7.8969   \n",
       "3     9.6917    5.6983  ...  6.5462  7.8543  3.5649     1.2896    6.4660   \n",
       "4    14.8774    8.0641  ...  5.9106  5.2731  5.3992     4.8849    9.4650   \n",
       "..       ...       ...  ...     ...     ...     ...        ...       ...   \n",
       "596   0.7184    2.3772  ...  6.1955  1.3860  0.4035     6.1438   11.5044   \n",
       "597   9.2764   10.6440  ...  7.9311  5.7368  1.2328     2.6784    4.5618   \n",
       "598  16.5419   12.1057  ...  4.5782  3.8431  0.9662     2.2674   11.6040   \n",
       "599   9.9208    9.0875  ...  5.6524  6.4608  1.2865     4.9311    6.4067   \n",
       "600  13.1395    9.8408  ...  2.9316  8.2779  1.0738     4.5639    9.8853   \n",
       "\n",
       "     LOC84740  LOC440905     CDH1    ERBB2  PAM50Call_RNAseq  \n",
       "0      4.2191     6.0709  14.5226  12.7126                 1  \n",
       "1      2.5703     6.1650  13.3517  13.1849                 2  \n",
       "2      3.2608    10.1397  13.9822  12.9618                 2  \n",
       "3      2.4181     5.8774  13.2457  14.1351                 2  \n",
       "4      3.7149     2.4368  13.3157  12.1305                 3  \n",
       "..        ...        ...      ...      ...               ...  \n",
       "596    9.8210     5.9083  12.1229  11.6357                 4  \n",
       "597    1.8944     6.4104  14.7650  14.0283                 2  \n",
       "598    3.4868     4.8567  14.0134  12.7355                 2  \n",
       "599    3.3265     6.0473  15.2450  12.4689                 2  \n",
       "600    3.5253     4.9465  12.4367  12.8286                 1  \n",
       "\n",
       "[601 rows x 503 columns]"
      ]
     },
     "metadata": {},
     "output_type": "display_data"
    }
   ],
   "source": [
    "file_path = \"RWDataEstimation/PAM50/\";\n",
    "file_name = \"BRCADataPM50.txt\";\n",
    "dataset = pd.read_csv(file_path+file_name,sep='\\t');\n",
    "display(dataset);\n",
    "#print(mixed_sim_dataset.columns);"
   ]
  },
  {
   "cell_type": "code",
   "execution_count": null,
   "id": "13b1835d-1c17-4399-b9b2-e5a1705d0c88",
   "metadata": {
    "tags": []
   },
   "outputs": [],
   "source": [
    "\n"
   ]
  },
  {
   "cell_type": "code",
   "execution_count": 9,
   "id": "55a59862-a66e-423c-891f-5216de930df2",
   "metadata": {
    "tags": []
   },
   "outputs": [
    {
     "data": {
      "text/plain": [
       "['ACTR3B',\n",
       " 'ANLN',\n",
       " 'BAG1',\n",
       " 'BCL2',\n",
       " 'BIRC5',\n",
       " 'BLVRA',\n",
       " 'CCNB1',\n",
       " 'CCNE1',\n",
       " 'CDC20',\n",
       " 'CDC6',\n",
       " 'CDH3',\n",
       " 'CENPF',\n",
       " 'CEP55',\n",
       " 'CXXC5',\n",
       " 'EGFR',\n",
       " 'ERBB2',\n",
       " 'ESR1',\n",
       " 'EXO1',\n",
       " 'FGFR4',\n",
       " 'FOXA1',\n",
       " 'FOXC1',\n",
       " 'GPR160',\n",
       " 'GRB7',\n",
       " 'KIF2C',\n",
       " 'KRT14',\n",
       " 'KRT17',\n",
       " 'KRT5',\n",
       " 'MAPT',\n",
       " 'MDM2',\n",
       " 'MELK',\n",
       " 'MIA',\n",
       " 'MKI67',\n",
       " 'MLPH',\n",
       " 'MMP11',\n",
       " 'MYBL2',\n",
       " 'MYC',\n",
       " 'NAT1',\n",
       " 'NDC80',\n",
       " 'NUF2',\n",
       " 'ORC6L',\n",
       " 'PGR',\n",
       " 'PHGDH',\n",
       " 'PTTG1',\n",
       " 'RRM2',\n",
       " 'SFRP1',\n",
       " 'SLC39A6',\n",
       " 'TMEM45B',\n",
       " 'TYMS',\n",
       " 'UBE2C',\n",
       " 'UBE2T']"
      ]
     },
     "execution_count": 9,
     "metadata": {},
     "output_type": "execute_result"
    }
   ],
   "source": [
    "PAM50GenesStr = \"ACTR3B, ANLN, BAG1, BCL2, BIRC5, BLVRA, CCNB1, CCNE1, CDC20, CDC6, CDH3, CENPF, CEP55, CXXC5, EGFR, ERBB2, ESR1, EXO1, FGFR4, FOXA1, FOXC1, GPR160, GRB7, KIF2C, KRT14, KRT17, KRT5, MAPT, MDM2, MELK, MIA, MKI67, MLPH, MMP11, MYBL2, MYC, NAT1, NDC80, NUF2, ORC6L, PGR, PHGDH, PTTG1, RRM2, SFRP1, SLC39A6, TMEM45B, TYMS, UBE2C, UBE2T\";\n",
    "PAM50GenesList = list(PAM50GenesStr.split(\", \"));\n",
    "PAM50GenesList"
   ]
  },
  {
   "cell_type": "code",
   "execution_count": 11,
   "id": "e35983d9-7a21-45d0-8e76-698bc64bac6d",
   "metadata": {
    "tags": []
   },
   "outputs": [
    {
     "name": "stdout",
     "output_type": "stream",
     "text": [
      "20\n",
      "40\n",
      "KRT14->PAM50Call_RNAseq\n",
      "60\n",
      "80\n",
      "PGR->PAM50Call_RNAseq\n",
      "100\n",
      "KRT17->PAM50Call_RNAseq\n",
      "120\n",
      "ESR1->PAM50Call_RNAseq\n",
      "140\n",
      "160\n",
      "180\n",
      "200\n",
      "220\n",
      "240\n",
      "260\n",
      "280\n",
      "NAT1->PAM50Call_RNAseq\n",
      "300\n",
      "320\n",
      "FOXA1->PAM50Call_RNAseq\n",
      "340\n",
      "360\n",
      "380\n",
      "400\n",
      "420\n",
      "440\n",
      "460\n",
      "480\n",
      "500\n",
      "ERBB2->PAM50Call_RNAseq\n"
     ]
    }
   ],
   "source": [
    "ges_list = [];\n",
    "\n",
    "step_interval = 20;\n",
    "step_index = step_interval;\n",
    "while step_index <= 500:\n",
    "    start_idx = step_index-step_interval;\n",
    "    end_idx = step_index;\n",
    "    \n",
    "    if end_idx==500:\n",
    "        print(end_idx);\n",
    "        temp_dataset = dataset.iloc[:, start_idx:dataset.shape[1]];\n",
    "    else:\n",
    "        #The last patch\n",
    "        print(end_idx);\n",
    "        temp_dataset = dataset.iloc[:, start_idx:end_idx];\n",
    "        temp_dataset[\"PAM50Call_RNAseq\"] = dataset[\"PAM50Call_RNAseq\"];\n",
    "        \n",
    "    temp_data_mat = temp_dataset.to_numpy();\n",
    "    \n",
    "    # Run GES with default parameters: score_func='local_score_BIC', maxP=None, parameters=None\n",
    "    # Run GES and obtain the estimated graph (res_map is Dict object，which contains the updated steps, the result causal graph and the result score.)\n",
    "    res_map = ges(temp_data_mat, score_func='local_score_BIC', maxP=None, parameters=None)  \n",
    "    relation_list = res_map['update1'];\n",
    "\n",
    "    name_index_mapping = {};\n",
    "    index_name_mapping = {};\n",
    "\n",
    "    colList = temp_dataset.columns.tolist();\n",
    "    for index,name in enumerate(colList):\n",
    "        name_index_mapping[name] = index;\n",
    "        index_name_mapping[index] = name;\n",
    "\n",
    "    for rel in relation_list:\n",
    "        node1_name = index_name_mapping[rel[0]];\n",
    "        node2_name = index_name_mapping[rel[1]];\n",
    "        if node2_name == \"PAM50Call_RNAseq\" and node1_name in PAM50GenesList:\n",
    "            print(node1_name+\"->\"+node2_name);\n",
    "            ges_list.append({\"Cause\":node1_name,\"Effect\":node2_name});\n",
    "        \n",
    "    step_index=step_index+step_interval;"
   ]
  },
  {
   "cell_type": "code",
   "execution_count": 12,
   "id": "b7906a0d-69de-4e9e-a83e-34fcd007decf",
   "metadata": {
    "tags": []
   },
   "outputs": [
    {
     "name": "stdout",
     "output_type": "stream",
     "text": [
      "20\n"
     ]
    },
    {
     "data": {
      "application/vnd.jupyter.widget-view+json": {
       "model_id": "7b589c2f551e47df999417bb20b20b45",
       "version_major": 2,
       "version_minor": 0
      },
      "text/plain": [
       "  0%|          | 0/21 [00:00<?, ?it/s]"
      ]
     },
     "metadata": {},
     "output_type": "display_data"
    },
    {
     "name": "stdout",
     "output_type": "stream",
     "text": [
      "X7 --> X1\n",
      "X1 --> X10\n",
      "X16 --> X1\n",
      "X2 --> X15\n",
      "X18 --> X2\n",
      "X10 --> X5\n",
      "X5 --> X16\n",
      "X16 --> X7\n",
      "X16 --> X9\n",
      "X9 --> X17\n",
      "X10 --> X15\n",
      "X10 --> X18\n",
      "X12 --> X11\n",
      "X17 --> X11\n",
      "X16 --> X13\n",
      "X17 --> X13\n",
      "X14 --> X20\n",
      "X15 --> X20\n",
      "X21 --> X15\n",
      "X18 --> X21\n",
      "40\n"
     ]
    },
    {
     "data": {
      "application/vnd.jupyter.widget-view+json": {
       "model_id": "a9052e72d6634724b23d54166af026ac",
       "version_major": 2,
       "version_minor": 0
      },
      "text/plain": [
       "  0%|          | 0/21 [00:00<?, ?it/s]"
      ]
     },
     "metadata": {},
     "output_type": "display_data"
    },
    {
     "name": "stdout",
     "output_type": "stream",
     "text": [
      "X14 --> X1\n",
      "X1 --> X19\n",
      "X5 --> X11\n",
      "X12 --> X6\n",
      "X13 --> X6\n",
      "X8 --> X7\n",
      "X9 --> X15\n",
      "X16 --> X10\n",
      "X17 --> X10\n",
      "X21 --> X10\n",
      "X11 --> X16\n",
      "X18 --> X13\n",
      "X16 --> X14\n",
      "X14 --> X19\n",
      "X16 --> X17\n",
      "X17 --> X21\n",
      "60\n"
     ]
    },
    {
     "data": {
      "application/vnd.jupyter.widget-view+json": {
       "model_id": "b7c231bda09546468cf9a0f46b7e370c",
       "version_major": 2,
       "version_minor": 0
      },
      "text/plain": [
       "  0%|          | 0/21 [00:00<?, ?it/s]"
      ]
     },
     "metadata": {},
     "output_type": "display_data"
    },
    {
     "name": "stdout",
     "output_type": "stream",
     "text": [
      "X1 --> X12\n",
      "X8 --> X3\n",
      "X15 --> X4\n",
      "X21 --> X4\n",
      "X5 --> X7\n",
      "X5 --> X12\n",
      "X5 --> X19\n",
      "X7 --> X12\n",
      "X13 --> X8\n",
      "X9 --> X21\n",
      "X12 --> X18\n",
      "X13 --> X15\n",
      "X13 --> X21\n",
      "X14 --> X16\n",
      "X14 --> X18\n",
      "X15 --> X18\n",
      "X15 --> X21\n",
      "X18 --> X21\n",
      "80\n"
     ]
    },
    {
     "data": {
      "application/vnd.jupyter.widget-view+json": {
       "model_id": "8a15b0d38e75430d99ed7520c5330df9",
       "version_major": 2,
       "version_minor": 0
      },
      "text/plain": [
       "  0%|          | 0/21 [00:00<?, ?it/s]"
      ]
     },
     "metadata": {},
     "output_type": "display_data"
    },
    {
     "name": "stdout",
     "output_type": "stream",
     "text": [
      "X1 --> X5\n",
      "X10 --> X2\n",
      "X8 --> X3\n",
      "X10 --> X3\n",
      "X21 --> X3\n",
      "X16 --> X4\n",
      "X5 --> X7\n",
      "X5 --> X18\n",
      "X6 --> X8\n",
      "X6 --> X15\n",
      "X6 --> X17\n",
      "X6 --> X19\n",
      "X16 --> X7\n",
      "X17 --> X7\n",
      "X8 --> X21\n",
      "X9 --> X11\n",
      "X9 --> X13\n",
      "X9 --> X16\n",
      "X19 --> X10\n",
      "X21 --> X10\n",
      "X20 --> X11\n",
      "X13 --> X17\n",
      "X16 --> X14\n",
      "X18 --> X14\n",
      "X18 --> X17\n",
      "X20 --> X18\n",
      "PGR->PAM50Call_RNAseq\n",
      "100\n"
     ]
    },
    {
     "data": {
      "application/vnd.jupyter.widget-view+json": {
       "model_id": "8fdf51977e534722b87f962888f5c940",
       "version_major": 2,
       "version_minor": 0
      },
      "text/plain": [
       "  0%|          | 0/21 [00:00<?, ?it/s]"
      ]
     },
     "metadata": {},
     "output_type": "display_data"
    },
    {
     "name": "stdout",
     "output_type": "stream",
     "text": [
      "X4 --> X2\n",
      "X2 --> X9\n",
      "X2 --> X13\n",
      "X15 --> X2\n",
      "X2 --> X21\n",
      "X4 --> X15\n",
      "X21 --> X4\n",
      "X9 --> X5\n",
      "X9 --> X18\n",
      "X15 --> X10\n",
      "X15 --> X11\n",
      "X19 --> X12\n",
      "X13 --> X20\n",
      "X13 --> X21\n",
      "X15 --> X19\n",
      "120\n"
     ]
    },
    {
     "data": {
      "application/vnd.jupyter.widget-view+json": {
       "model_id": "a427d4edc9d04df5b4a9b7053726ba3f",
       "version_major": 2,
       "version_minor": 0
      },
      "text/plain": [
       "  0%|          | 0/21 [00:00<?, ?it/s]"
      ]
     },
     "metadata": {},
     "output_type": "display_data"
    },
    {
     "name": "stdout",
     "output_type": "stream",
     "text": [
      "X1 --> X6\n",
      "X1 --> X7\n",
      "X1 --> X13\n",
      "X2 --> X4\n",
      "X7 --> X5\n",
      "X13 --> X5\n",
      "X6 --> X9\n",
      "X6 --> X15\n",
      "X7 --> X12\n",
      "X7 --> X15\n",
      "X9 --> X8\n",
      "X20 --> X8\n",
      "X9 --> X11\n",
      "X12 --> X9\n",
      "X9 --> X17\n",
      "X21 --> X9\n",
      "X11 --> X20\n",
      "X21 --> X12\n",
      "X21 --> X17\n",
      "X21 --> X18\n",
      "140\n"
     ]
    },
    {
     "data": {
      "application/vnd.jupyter.widget-view+json": {
       "model_id": "09de460f2de544d1809b9d0401c6b30e",
       "version_major": 2,
       "version_minor": 0
      },
      "text/plain": [
       "  0%|          | 0/21 [00:00<?, ?it/s]"
      ]
     },
     "metadata": {},
     "output_type": "display_data"
    },
    {
     "name": "stdout",
     "output_type": "stream",
     "text": [
      "X1 --> X2\n",
      "X1 --> X5\n",
      "X1 --> X8\n",
      "X1 --> X9\n",
      "X15 --> X1\n",
      "X1 --> X18\n",
      "X1 --> X21\n",
      "X2 --> X3\n",
      "X2 --> X9\n",
      "X21 --> X2\n",
      "X3 --> X6\n",
      "X3 --> X8\n",
      "X3 --> X16\n",
      "X12 --> X4\n",
      "X21 --> X5\n",
      "X9 --> X7\n",
      "X8 --> X12\n",
      "X8 --> X18\n",
      "X8 --> X21\n",
      "X15 --> X9\n",
      "X21 --> X9\n",
      "X14 --> X10\n",
      "X16 --> X10\n",
      "X12 --> X15\n",
      "X18 --> X12\n",
      "X20 --> X12\n",
      "X19 --> X14\n",
      "X17 --> X19\n",
      "160\n"
     ]
    },
    {
     "data": {
      "application/vnd.jupyter.widget-view+json": {
       "model_id": "c5b8b6e19abd4c31a2260e2af48b43ef",
       "version_major": 2,
       "version_minor": 0
      },
      "text/plain": [
       "  0%|          | 0/21 [00:00<?, ?it/s]"
      ]
     },
     "metadata": {},
     "output_type": "display_data"
    },
    {
     "name": "stdout",
     "output_type": "stream",
     "text": [
      "X2 --> X1\n",
      "X1 --> X9\n",
      "X19 --> X1\n",
      "X21 --> X1\n",
      "X20 --> X3\n",
      "X4 --> X10\n",
      "X4 --> X16\n",
      "X20 --> X4\n",
      "X20 --> X5\n",
      "X11 --> X6\n",
      "X21 --> X6\n",
      "X8 --> X7\n",
      "X18 --> X7\n",
      "X19 --> X7\n",
      "X8 --> X11\n",
      "X18 --> X8\n",
      "X10 --> X16\n",
      "X20 --> X10\n",
      "X10 --> X21\n",
      "X11 --> X13\n",
      "X11 --> X21\n",
      "X14 --> X18\n",
      "X14 --> X19\n",
      "X21 --> X16\n",
      "X18 --> X17\n",
      "180\n"
     ]
    },
    {
     "data": {
      "application/vnd.jupyter.widget-view+json": {
       "model_id": "5a7af383370d47abaa1197661a5855a9",
       "version_major": 2,
       "version_minor": 0
      },
      "text/plain": [
       "  0%|          | 0/21 [00:00<?, ?it/s]"
      ]
     },
     "metadata": {},
     "output_type": "display_data"
    },
    {
     "name": "stdout",
     "output_type": "stream",
     "text": [
      "X1 --> X15\n",
      "X17 --> X2\n",
      "X10 --> X5\n",
      "X13 --> X5\n",
      "X5 --> X17\n",
      "X19 --> X9\n",
      "X21 --> X9\n",
      "X10 --> X13\n",
      "X11 --> X19\n",
      "X19 --> X12\n",
      "X21 --> X17\n",
      "X21 --> X19\n",
      "200\n"
     ]
    },
    {
     "data": {
      "application/vnd.jupyter.widget-view+json": {
       "model_id": "84e203271d75460ca0415fa896b25a07",
       "version_major": 2,
       "version_minor": 0
      },
      "text/plain": [
       "  0%|          | 0/21 [00:00<?, ?it/s]"
      ]
     },
     "metadata": {},
     "output_type": "display_data"
    },
    {
     "name": "stdout",
     "output_type": "stream",
     "text": [
      "X1 --> X13\n",
      "X12 --> X2\n",
      "X3 --> X6\n",
      "X3 --> X11\n",
      "X3 --> X12\n",
      "X3 --> X21\n",
      "X11 --> X4\n",
      "X13 --> X4\n",
      "X21 --> X4\n",
      "X5 --> X18\n",
      "X8 --> X12\n",
      "X9 --> X20\n",
      "X11 --> X21\n",
      "X12 --> X21\n",
      "X14 --> X20\n",
      "X20 --> X15\n",
      "X20 --> X16\n",
      "220\n"
     ]
    },
    {
     "data": {
      "application/vnd.jupyter.widget-view+json": {
       "model_id": "8b01cbb10ac24847be218e7bd5c35565",
       "version_major": 2,
       "version_minor": 0
      },
      "text/plain": [
       "  0%|          | 0/21 [00:00<?, ?it/s]"
      ]
     },
     "metadata": {},
     "output_type": "display_data"
    },
    {
     "name": "stdout",
     "output_type": "stream",
     "text": [
      "X2 --> X1\n",
      "X9 --> X1\n",
      "X1 --> X21\n",
      "X18 --> X2\n",
      "X9 --> X21\n",
      "X12 --> X19\n",
      "X19 --> X16\n",
      "240\n"
     ]
    },
    {
     "data": {
      "application/vnd.jupyter.widget-view+json": {
       "model_id": "804c98d911a246eaae3bef487eaa85c9",
       "version_major": 2,
       "version_minor": 0
      },
      "text/plain": [
       "  0%|          | 0/21 [00:00<?, ?it/s]"
      ]
     },
     "metadata": {},
     "output_type": "display_data"
    },
    {
     "name": "stdout",
     "output_type": "stream",
     "text": [
      "X2 --> X7\n",
      "X14 --> X2\n",
      "X21 --> X2\n",
      "X15 --> X3\n",
      "X18 --> X3\n",
      "X21 --> X3\n",
      "X4 --> X14\n",
      "X16 --> X5\n",
      "X5 --> X20\n",
      "X10 --> X7\n",
      "X8 --> X11\n",
      "X8 --> X12\n",
      "X16 --> X8\n",
      "X10 --> X13\n",
      "X10 --> X14\n",
      "X10 --> X16\n",
      "X11 --> X12\n",
      "X16 --> X11\n",
      "X11 --> X18\n",
      "X13 --> X21\n",
      "X16 --> X18\n",
      "X21 --> X19\n",
      "260\n"
     ]
    },
    {
     "data": {
      "application/vnd.jupyter.widget-view+json": {
       "model_id": "56b8dac44b074c83bdf824e84b654b4b",
       "version_major": 2,
       "version_minor": 0
      },
      "text/plain": [
       "  0%|          | 0/21 [00:00<?, ?it/s]"
      ]
     },
     "metadata": {},
     "output_type": "display_data"
    },
    {
     "name": "stdout",
     "output_type": "stream",
     "text": [
      "X2 --> X9\n",
      "X5 --> X3\n",
      "X7 --> X3\n",
      "X10 --> X3\n",
      "X3 --> X21\n",
      "X21 --> X5\n",
      "X19 --> X7\n",
      "X9 --> X19\n",
      "X11 --> X10\n",
      "X16 --> X10\n",
      "X19 --> X10\n",
      "X10 --> X21\n",
      "X13 --> X11\n",
      "X11 --> X16\n",
      "X11 --> X19\n",
      "X21 --> X12\n",
      "X13 --> X19\n",
      "X16 --> X21\n",
      "X19 --> X21\n",
      "280\n"
     ]
    },
    {
     "data": {
      "application/vnd.jupyter.widget-view+json": {
       "model_id": "8717662767bd41ed96ac9505cf560495",
       "version_major": 2,
       "version_minor": 0
      },
      "text/plain": [
       "  0%|          | 0/21 [00:00<?, ?it/s]"
      ]
     },
     "metadata": {},
     "output_type": "display_data"
    },
    {
     "name": "stdout",
     "output_type": "stream",
     "text": [
      "X1 --> X8\n",
      "X18 --> X1\n",
      "X12 --> X2\n",
      "X13 --> X2\n",
      "X2 --> X18\n",
      "X3 --> X10\n",
      "X13 --> X5\n",
      "X12 --> X6\n",
      "X6 --> X16\n",
      "X13 --> X7\n",
      "X7 --> X18\n",
      "X10 --> X16\n",
      "X13 --> X12\n",
      "X12 --> X16\n",
      "300\n"
     ]
    },
    {
     "data": {
      "application/vnd.jupyter.widget-view+json": {
       "model_id": "a0b3a7ddf61a40398d989c0eefdc097e",
       "version_major": 2,
       "version_minor": 0
      },
      "text/plain": [
       "  0%|          | 0/21 [00:00<?, ?it/s]"
      ]
     },
     "metadata": {},
     "output_type": "display_data"
    },
    {
     "name": "stdout",
     "output_type": "stream",
     "text": [
      "X6 --> X1\n",
      "X9 --> X2\n",
      "X2 --> X10\n",
      "X4 --> X9\n",
      "X10 --> X4\n",
      "X4 --> X16\n",
      "X17 --> X8\n",
      "X8 --> X18\n",
      "X12 --> X9\n",
      "X9 --> X20\n",
      "X10 --> X21\n",
      "X11 --> X12\n",
      "X11 --> X16\n",
      "320\n"
     ]
    },
    {
     "data": {
      "application/vnd.jupyter.widget-view+json": {
       "model_id": "f47b742e1d9840bf9872e4389f2aff84",
       "version_major": 2,
       "version_minor": 0
      },
      "text/plain": [
       "  0%|          | 0/21 [00:00<?, ?it/s]"
      ]
     },
     "metadata": {},
     "output_type": "display_data"
    },
    {
     "name": "stdout",
     "output_type": "stream",
     "text": [
      "X21 --> X1\n",
      "X21 --> X3\n",
      "X4 --> X21\n",
      "X5 --> X10\n",
      "X5 --> X15\n",
      "X6 --> X17\n",
      "X21 --> X7\n",
      "X8 --> X10\n",
      "X16 --> X10\n",
      "X21 --> X10\n",
      "X11 --> X15\n",
      "X15 --> X21\n",
      "340\n"
     ]
    },
    {
     "data": {
      "application/vnd.jupyter.widget-view+json": {
       "model_id": "0e42628e13144933868c767e933f191b",
       "version_major": 2,
       "version_minor": 0
      },
      "text/plain": [
       "  0%|          | 0/21 [00:00<?, ?it/s]"
      ]
     },
     "metadata": {},
     "output_type": "display_data"
    },
    {
     "name": "stdout",
     "output_type": "stream",
     "text": [
      "X3 --> X15\n",
      "X3 --> X18\n",
      "X15 --> X4\n",
      "X17 --> X4\n",
      "X5 --> X10\n",
      "X14 --> X21\n",
      "X15 --> X18\n",
      "360\n"
     ]
    },
    {
     "data": {
      "application/vnd.jupyter.widget-view+json": {
       "model_id": "36353e948d804758aa7f0a6cf488595d",
       "version_major": 2,
       "version_minor": 0
      },
      "text/plain": [
       "  0%|          | 0/21 [00:00<?, ?it/s]"
      ]
     },
     "metadata": {},
     "output_type": "display_data"
    },
    {
     "name": "stdout",
     "output_type": "stream",
     "text": [
      "X6 --> X1\n",
      "X15 --> X1\n",
      "X5 --> X3\n",
      "X17 --> X3\n",
      "X5 --> X10\n",
      "X5 --> X19\n",
      "X11 --> X6\n",
      "X6 --> X19\n",
      "X6 --> X21\n",
      "X7 --> X11\n",
      "X7 --> X15\n",
      "X9 --> X11\n",
      "X17 --> X12\n",
      "X20 --> X13\n",
      "X17 --> X19\n",
      "X18 --> X19\n",
      "380\n"
     ]
    },
    {
     "data": {
      "application/vnd.jupyter.widget-view+json": {
       "model_id": "2e40acd793064beba436cc19c23a86fd",
       "version_major": 2,
       "version_minor": 0
      },
      "text/plain": [
       "  0%|          | 0/21 [00:00<?, ?it/s]"
      ]
     },
     "metadata": {},
     "output_type": "display_data"
    },
    {
     "name": "stdout",
     "output_type": "stream",
     "text": [
      "X2 --> X9\n",
      "X2 --> X14\n",
      "X19 --> X2\n",
      "X9 --> X13\n",
      "X9 --> X14\n",
      "X9 --> X20\n",
      "X21 --> X10\n",
      "X20 --> X13\n",
      "X14 --> X20\n",
      "X15 --> X21\n",
      "X19 --> X21\n",
      "400\n"
     ]
    },
    {
     "data": {
      "application/vnd.jupyter.widget-view+json": {
       "model_id": "16ea5aa693b6405085ab735ae4826793",
       "version_major": 2,
       "version_minor": 0
      },
      "text/plain": [
       "  0%|          | 0/21 [00:00<?, ?it/s]"
      ]
     },
     "metadata": {},
     "output_type": "display_data"
    },
    {
     "name": "stdout",
     "output_type": "stream",
     "text": [
      "X2 --> X12\n",
      "X8 --> X11\n",
      "X12 --> X17\n",
      "X12 --> X21\n",
      "X13 --> X18\n",
      "X20 --> X15\n",
      "420\n"
     ]
    },
    {
     "data": {
      "application/vnd.jupyter.widget-view+json": {
       "model_id": "b977041af68c456fba8e732ecbcfb2f9",
       "version_major": 2,
       "version_minor": 0
      },
      "text/plain": [
       "  0%|          | 0/21 [00:00<?, ?it/s]"
      ]
     },
     "metadata": {},
     "output_type": "display_data"
    },
    {
     "name": "stdout",
     "output_type": "stream",
     "text": [
      "X7 --> X1\n",
      "X1 --> X11\n",
      "X1 --> X12\n",
      "X9 --> X3\n",
      "X13 --> X3\n",
      "X15 --> X3\n",
      "X3 --> X20\n",
      "X8 --> X4\n",
      "X16 --> X4\n",
      "X7 --> X5\n",
      "X5 --> X12\n",
      "X5 --> X15\n",
      "X7 --> X12\n",
      "X13 --> X9\n",
      "X15 --> X9\n",
      "X12 --> X15\n",
      "X15 --> X13\n",
      "X13 --> X18\n",
      "X19 --> X20\n",
      "440\n"
     ]
    },
    {
     "data": {
      "application/vnd.jupyter.widget-view+json": {
       "model_id": "c969e885239445ba85804edb80dfb73b",
       "version_major": 2,
       "version_minor": 0
      },
      "text/plain": [
       "  0%|          | 0/21 [00:00<?, ?it/s]"
      ]
     },
     "metadata": {},
     "output_type": "display_data"
    },
    {
     "name": "stdout",
     "output_type": "stream",
     "text": [
      "X3 --> X17\n",
      "X3 --> X19\n",
      "X12 --> X4\n",
      "X4 --> X14\n",
      "X4 --> X15\n",
      "X4 --> X18\n",
      "X6 --> X13\n",
      "X14 --> X7\n",
      "X8 --> X20\n",
      "X13 --> X10\n",
      "X12 --> X21\n",
      "X20 --> X21\n",
      "MAPT->PAM50Call_RNAseq\n",
      "460\n"
     ]
    },
    {
     "data": {
      "application/vnd.jupyter.widget-view+json": {
       "model_id": "6b5e8ed0a4e640ce847a22e130d2b115",
       "version_major": 2,
       "version_minor": 0
      },
      "text/plain": [
       "  0%|          | 0/21 [00:00<?, ?it/s]"
      ]
     },
     "metadata": {},
     "output_type": "display_data"
    },
    {
     "name": "stdout",
     "output_type": "stream",
     "text": [
      "X2 --> X5\n",
      "X6 --> X3\n",
      "X10 --> X3\n",
      "X7 --> X4\n",
      "X7 --> X5\n",
      "X5 --> X17\n",
      "X19 --> X5\n",
      "X12 --> X6\n",
      "X17 --> X6\n",
      "X7 --> X14\n",
      "X21 --> X9\n",
      "X10 --> X18\n",
      "X13 --> X17\n",
      "480\n"
     ]
    },
    {
     "data": {
      "application/vnd.jupyter.widget-view+json": {
       "model_id": "ab4202e6cbb643ab91438be16aef7870",
       "version_major": 2,
       "version_minor": 0
      },
      "text/plain": [
       "  0%|          | 0/21 [00:00<?, ?it/s]"
      ]
     },
     "metadata": {},
     "output_type": "display_data"
    },
    {
     "name": "stdout",
     "output_type": "stream",
     "text": [
      "X21 --> X1\n",
      "X6 --> X2\n",
      "X18 --> X3\n",
      "X20 --> X3\n",
      "X9 --> X5\n",
      "X16 --> X7\n",
      "X7 --> X19\n",
      "X21 --> X8\n",
      "X9 --> X16\n",
      "X11 --> X19\n",
      "X21 --> X12\n",
      "X16 --> X15\n",
      "X19 --> X15\n",
      "X19 --> X20\n",
      "X21 --> X19\n",
      "500\n"
     ]
    },
    {
     "data": {
      "application/vnd.jupyter.widget-view+json": {
       "model_id": "2403a09193384d5ebbff5090bf6c5c89",
       "version_major": 2,
       "version_minor": 0
      },
      "text/plain": [
       "  0%|          | 0/23 [00:00<?, ?it/s]"
      ]
     },
     "metadata": {},
     "output_type": "display_data"
    },
    {
     "name": "stdout",
     "output_type": "stream",
     "text": [
      "X4 --> X1\n",
      "X1 --> X6\n",
      "X1 --> X10\n",
      "X6 --> X2\n",
      "X6 --> X3\n",
      "X3 --> X23\n",
      "X4 --> X14\n",
      "X4 --> X15\n",
      "X10 --> X5\n",
      "X6 --> X7\n",
      "X6 --> X14\n",
      "X6 --> X19\n",
      "X19 --> X11\n",
      "X14 --> X18\n"
     ]
    }
   ],
   "source": [
    "fci_list = [];\n",
    "\n",
    "step_interval = 20;\n",
    "step_index = step_interval;\n",
    "while step_index <= 500:\n",
    "    start_idx = step_index-step_interval;\n",
    "    end_idx = step_index;\n",
    "    \n",
    "    if end_idx==500:\n",
    "        print(end_idx);\n",
    "        temp_dataset = dataset.iloc[:, start_idx:dataset.shape[1]];\n",
    "    else:\n",
    "        #The last patch\n",
    "        print(end_idx);\n",
    "        temp_dataset = dataset.iloc[:, start_idx:end_idx];\n",
    "        temp_dataset[\"PAM50Call_RNAseq\"] = dataset[\"PAM50Call_RNAseq\"];\n",
    "        \n",
    "    temp_data_mat = temp_dataset.to_numpy();\n",
    "\n",
    "    name_index_mapping = {};\n",
    "    index_name_mapping = {};\n",
    "\n",
    "    colList = temp_dataset.columns.tolist();\n",
    "    for index,name in enumerate(colList):\n",
    "        name_index_mapping[name] = index;\n",
    "        index_name_mapping[index] = name;\n",
    "\n",
    "        \n",
    "    G, edges = fci(temp_data_mat, fisherz, 0.05, verbose=False);\n",
    "    \n",
    "    for edge in edges:\n",
    "        edge = str(edge);\n",
    "        # print(edge);\n",
    "        if \" --> \" in edge:\n",
    "            edge_strs = edge.split(\" --> \");\n",
    "            node1_name = int(edge_strs[0].replace('X', ''))-1;\n",
    "            node2_name = int(edge_strs[1].replace('X', ''))-1;\n",
    "\n",
    "            node1_name = index_name_mapping[node1_name];\n",
    "            node2_name = index_name_mapping[node2_name];\n",
    "\n",
    "            if node2_name == \"PAM50Call_RNAseq\" and node1_name in PAM50GenesList:\n",
    "                print(node1_name+\"->\"+node2_name);\n",
    "                fci_list.append({\"Cause\":node1_name,\"Effect\":node2_name});\n",
    "        \n",
    "    step_index=step_index+step_interval;"
   ]
  },
  {
   "cell_type": "code",
   "execution_count": 13,
   "id": "4c273e52-289a-433c-8caf-42d137d027a5",
   "metadata": {},
   "outputs": [
    {
     "name": "stdout",
     "output_type": "stream",
     "text": [
      "20\n"
     ]
    },
    {
     "data": {
      "application/vnd.jupyter.widget-view+json": {
       "model_id": "c5cfe8e0bfd643daa332ca7d8b8c49ce",
       "version_major": 2,
       "version_minor": 0
      },
      "text/plain": [
       "  0%|          | 0/21 [00:00<?, ?it/s]"
      ]
     },
     "metadata": {},
     "output_type": "display_data"
    },
    {
     "name": "stdout",
     "output_type": "stream",
     "text": [
      "40\n"
     ]
    },
    {
     "data": {
      "application/vnd.jupyter.widget-view+json": {
       "model_id": "563a1edf788644469c0f9b8135036ade",
       "version_major": 2,
       "version_minor": 0
      },
      "text/plain": [
       "  0%|          | 0/21 [00:00<?, ?it/s]"
      ]
     },
     "metadata": {},
     "output_type": "display_data"
    },
    {
     "name": "stdout",
     "output_type": "stream",
     "text": [
      "60\n"
     ]
    },
    {
     "data": {
      "application/vnd.jupyter.widget-view+json": {
       "model_id": "747fef532f144ba9ae57de8256a6e827",
       "version_major": 2,
       "version_minor": 0
      },
      "text/plain": [
       "  0%|          | 0/21 [00:00<?, ?it/s]"
      ]
     },
     "metadata": {},
     "output_type": "display_data"
    },
    {
     "name": "stdout",
     "output_type": "stream",
     "text": [
      "80\n"
     ]
    },
    {
     "data": {
      "application/vnd.jupyter.widget-view+json": {
       "model_id": "769b37f7f990496abef3ec7084fd519c",
       "version_major": 2,
       "version_minor": 0
      },
      "text/plain": [
       "  0%|          | 0/21 [00:00<?, ?it/s]"
      ]
     },
     "metadata": {},
     "output_type": "display_data"
    },
    {
     "name": "stdout",
     "output_type": "stream",
     "text": [
      "100\n"
     ]
    },
    {
     "data": {
      "application/vnd.jupyter.widget-view+json": {
       "model_id": "d879750615e54f42ab791250af54872c",
       "version_major": 2,
       "version_minor": 0
      },
      "text/plain": [
       "  0%|          | 0/21 [00:00<?, ?it/s]"
      ]
     },
     "metadata": {},
     "output_type": "display_data"
    },
    {
     "name": "stdout",
     "output_type": "stream",
     "text": [
      "120\n"
     ]
    },
    {
     "data": {
      "application/vnd.jupyter.widget-view+json": {
       "model_id": "b46893048d9148e1a71d072f9572c06f",
       "version_major": 2,
       "version_minor": 0
      },
      "text/plain": [
       "  0%|          | 0/21 [00:00<?, ?it/s]"
      ]
     },
     "metadata": {},
     "output_type": "display_data"
    },
    {
     "name": "stdout",
     "output_type": "stream",
     "text": [
      "140\n"
     ]
    },
    {
     "data": {
      "application/vnd.jupyter.widget-view+json": {
       "model_id": "ff1c9fa0845f4ba5af78ccd2dba38fb3",
       "version_major": 2,
       "version_minor": 0
      },
      "text/plain": [
       "  0%|          | 0/21 [00:00<?, ?it/s]"
      ]
     },
     "metadata": {},
     "output_type": "display_data"
    },
    {
     "name": "stdout",
     "output_type": "stream",
     "text": [
      "160\n"
     ]
    },
    {
     "data": {
      "application/vnd.jupyter.widget-view+json": {
       "model_id": "5767638c69b746b48f41d6ab3e50ab6e",
       "version_major": 2,
       "version_minor": 0
      },
      "text/plain": [
       "  0%|          | 0/21 [00:00<?, ?it/s]"
      ]
     },
     "metadata": {},
     "output_type": "display_data"
    },
    {
     "name": "stdout",
     "output_type": "stream",
     "text": [
      "180\n"
     ]
    },
    {
     "data": {
      "application/vnd.jupyter.widget-view+json": {
       "model_id": "9a5234e107914a0997d3ba49f0d51743",
       "version_major": 2,
       "version_minor": 0
      },
      "text/plain": [
       "  0%|          | 0/21 [00:00<?, ?it/s]"
      ]
     },
     "metadata": {},
     "output_type": "display_data"
    },
    {
     "name": "stdout",
     "output_type": "stream",
     "text": [
      "200\n"
     ]
    },
    {
     "data": {
      "application/vnd.jupyter.widget-view+json": {
       "model_id": "5adfe393217f41cf9ed3b6fe30754e6f",
       "version_major": 2,
       "version_minor": 0
      },
      "text/plain": [
       "  0%|          | 0/21 [00:00<?, ?it/s]"
      ]
     },
     "metadata": {},
     "output_type": "display_data"
    },
    {
     "name": "stdout",
     "output_type": "stream",
     "text": [
      "220\n"
     ]
    },
    {
     "data": {
      "application/vnd.jupyter.widget-view+json": {
       "model_id": "3ee692013ad14ee09d5e05b83f5af396",
       "version_major": 2,
       "version_minor": 0
      },
      "text/plain": [
       "  0%|          | 0/21 [00:00<?, ?it/s]"
      ]
     },
     "metadata": {},
     "output_type": "display_data"
    },
    {
     "name": "stdout",
     "output_type": "stream",
     "text": [
      "240\n"
     ]
    },
    {
     "data": {
      "application/vnd.jupyter.widget-view+json": {
       "model_id": "9e90859d9ca6488a9797d87a88229185",
       "version_major": 2,
       "version_minor": 0
      },
      "text/plain": [
       "  0%|          | 0/21 [00:00<?, ?it/s]"
      ]
     },
     "metadata": {},
     "output_type": "display_data"
    },
    {
     "name": "stdout",
     "output_type": "stream",
     "text": [
      "260\n"
     ]
    },
    {
     "data": {
      "application/vnd.jupyter.widget-view+json": {
       "model_id": "0eb9c92e8bf04eef85f2347dc194ffd7",
       "version_major": 2,
       "version_minor": 0
      },
      "text/plain": [
       "  0%|          | 0/21 [00:00<?, ?it/s]"
      ]
     },
     "metadata": {},
     "output_type": "display_data"
    },
    {
     "name": "stdout",
     "output_type": "stream",
     "text": [
      "280\n"
     ]
    },
    {
     "data": {
      "application/vnd.jupyter.widget-view+json": {
       "model_id": "4056b91289ce42baab774649a5bb1cf3",
       "version_major": 2,
       "version_minor": 0
      },
      "text/plain": [
       "  0%|          | 0/21 [00:00<?, ?it/s]"
      ]
     },
     "metadata": {},
     "output_type": "display_data"
    },
    {
     "name": "stdout",
     "output_type": "stream",
     "text": [
      "NAT1->PAM50Call_RNAseq\n",
      "300\n"
     ]
    },
    {
     "data": {
      "application/vnd.jupyter.widget-view+json": {
       "model_id": "05eda963c5df45b686f6c879d5917bfd",
       "version_major": 2,
       "version_minor": 0
      },
      "text/plain": [
       "  0%|          | 0/21 [00:00<?, ?it/s]"
      ]
     },
     "metadata": {},
     "output_type": "display_data"
    },
    {
     "name": "stdout",
     "output_type": "stream",
     "text": [
      "320\n"
     ]
    },
    {
     "data": {
      "application/vnd.jupyter.widget-view+json": {
       "model_id": "6640fb3ad23d44a889bd866b7f1a3a03",
       "version_major": 2,
       "version_minor": 0
      },
      "text/plain": [
       "  0%|          | 0/21 [00:00<?, ?it/s]"
      ]
     },
     "metadata": {},
     "output_type": "display_data"
    },
    {
     "name": "stdout",
     "output_type": "stream",
     "text": [
      "340\n"
     ]
    },
    {
     "data": {
      "application/vnd.jupyter.widget-view+json": {
       "model_id": "e897d4a2439547019ad4f25aaa730ba7",
       "version_major": 2,
       "version_minor": 0
      },
      "text/plain": [
       "  0%|          | 0/21 [00:00<?, ?it/s]"
      ]
     },
     "metadata": {},
     "output_type": "display_data"
    },
    {
     "name": "stdout",
     "output_type": "stream",
     "text": [
      "360\n"
     ]
    },
    {
     "data": {
      "application/vnd.jupyter.widget-view+json": {
       "model_id": "36cc322c31c54343bfe1a6ed8f650300",
       "version_major": 2,
       "version_minor": 0
      },
      "text/plain": [
       "  0%|          | 0/21 [00:00<?, ?it/s]"
      ]
     },
     "metadata": {},
     "output_type": "display_data"
    },
    {
     "name": "stdout",
     "output_type": "stream",
     "text": [
      "380\n"
     ]
    },
    {
     "data": {
      "application/vnd.jupyter.widget-view+json": {
       "model_id": "74e1e4ea90ba4666b74cf6569e3d250a",
       "version_major": 2,
       "version_minor": 0
      },
      "text/plain": [
       "  0%|          | 0/21 [00:00<?, ?it/s]"
      ]
     },
     "metadata": {},
     "output_type": "display_data"
    },
    {
     "name": "stdout",
     "output_type": "stream",
     "text": [
      "400\n"
     ]
    },
    {
     "data": {
      "application/vnd.jupyter.widget-view+json": {
       "model_id": "09ded4c5894c44e894cc55dec0c66e04",
       "version_major": 2,
       "version_minor": 0
      },
      "text/plain": [
       "  0%|          | 0/21 [00:00<?, ?it/s]"
      ]
     },
     "metadata": {},
     "output_type": "display_data"
    },
    {
     "name": "stdout",
     "output_type": "stream",
     "text": [
      "420\n"
     ]
    },
    {
     "data": {
      "application/vnd.jupyter.widget-view+json": {
       "model_id": "8921747e76304f4a8fe37ba233ee9204",
       "version_major": 2,
       "version_minor": 0
      },
      "text/plain": [
       "  0%|          | 0/21 [00:00<?, ?it/s]"
      ]
     },
     "metadata": {},
     "output_type": "display_data"
    },
    {
     "name": "stdout",
     "output_type": "stream",
     "text": [
      "440\n"
     ]
    },
    {
     "data": {
      "application/vnd.jupyter.widget-view+json": {
       "model_id": "8912477a281c4a94ae2b32cc2e21d300",
       "version_major": 2,
       "version_minor": 0
      },
      "text/plain": [
       "  0%|          | 0/21 [00:00<?, ?it/s]"
      ]
     },
     "metadata": {},
     "output_type": "display_data"
    },
    {
     "name": "stdout",
     "output_type": "stream",
     "text": [
      "460\n"
     ]
    },
    {
     "data": {
      "application/vnd.jupyter.widget-view+json": {
       "model_id": "7b0339bfcb214c04bdc02169a8a48ad9",
       "version_major": 2,
       "version_minor": 0
      },
      "text/plain": [
       "  0%|          | 0/21 [00:00<?, ?it/s]"
      ]
     },
     "metadata": {},
     "output_type": "display_data"
    },
    {
     "name": "stdout",
     "output_type": "stream",
     "text": [
      "480\n"
     ]
    },
    {
     "data": {
      "application/vnd.jupyter.widget-view+json": {
       "model_id": "0ec8488bd24e4a089fd1d226f351216c",
       "version_major": 2,
       "version_minor": 0
      },
      "text/plain": [
       "  0%|          | 0/21 [00:00<?, ?it/s]"
      ]
     },
     "metadata": {},
     "output_type": "display_data"
    },
    {
     "name": "stdout",
     "output_type": "stream",
     "text": [
      "500\n"
     ]
    },
    {
     "data": {
      "application/vnd.jupyter.widget-view+json": {
       "model_id": "1ce9dd5ece06455aad56756006a620df",
       "version_major": 2,
       "version_minor": 0
      },
      "text/plain": [
       "  0%|          | 0/23 [00:00<?, ?it/s]"
      ]
     },
     "metadata": {},
     "output_type": "display_data"
    }
   ],
   "source": [
    "pc_list = [];\n",
    "\n",
    "step_interval = 20;\n",
    "step_index = step_interval;\n",
    "while step_index <= 500:\n",
    "    start_idx = step_index-step_interval;\n",
    "    end_idx = step_index;\n",
    "    \n",
    "    if end_idx==500:\n",
    "        print(end_idx);\n",
    "        temp_dataset = dataset.iloc[:, start_idx:dataset.shape[1]];\n",
    "    else:\n",
    "        #The last patch\n",
    "        print(end_idx);\n",
    "        temp_dataset = dataset.iloc[:, start_idx:end_idx];\n",
    "        temp_dataset[\"PAM50Call_RNAseq\"] = dataset[\"PAM50Call_RNAseq\"];\n",
    "        \n",
    "    temp_data_mat = temp_dataset.to_numpy();\n",
    "\n",
    "    name_index_mapping = {};\n",
    "    index_name_mapping = {};\n",
    "\n",
    "    colList = temp_dataset.columns.tolist();\n",
    "    for index,name in enumerate(colList):\n",
    "        name_index_mapping[name] = index;\n",
    "        index_name_mapping[index] = name;\n",
    "\n",
    "        \n",
    "    # G, edges = fci(temp_data_mat, fisherz, 0.05, verbose=False);\n",
    "    cg = pc(temp_data_mat, 0.05, fisherz, True, 0, 1);\n",
    "    for edge in cg.G.get_graph_edges():\n",
    "    # for edge in edges:\n",
    "        edge = str(edge);\n",
    "        # print(edge);\n",
    "        if \" --> \" in edge:\n",
    "            edge_strs = edge.split(\" --> \");\n",
    "            node1_name = int(edge_strs[0].replace('X', ''))-1;\n",
    "            node2_name = int(edge_strs[1].replace('X', ''))-1;\n",
    "\n",
    "            node1_name = index_name_mapping[node1_name];\n",
    "            node2_name = index_name_mapping[node2_name];\n",
    "\n",
    "            if node2_name == \"PAM50Call_RNAseq\" and node1_name in PAM50GenesList:\n",
    "                print(node1_name+\"->\"+node2_name);\n",
    "                pc_list.append({\"Cause\":node1_name,\"Effect\":node2_name});\n",
    "                \n",
    "        \n",
    "    step_index=step_index+step_interval;"
   ]
  },
  {
   "cell_type": "code",
   "execution_count": 14,
   "id": "5401bf7b-c42d-4069-94fd-61677050c835",
   "metadata": {
    "tags": []
   },
   "outputs": [
    {
     "data": {
      "text/html": [
       "<div>\n",
       "<style scoped>\n",
       "    .dataframe tbody tr th:only-of-type {\n",
       "        vertical-align: middle;\n",
       "    }\n",
       "\n",
       "    .dataframe tbody tr th {\n",
       "        vertical-align: top;\n",
       "    }\n",
       "\n",
       "    .dataframe thead th {\n",
       "        text-align: right;\n",
       "    }\n",
       "</style>\n",
       "<table border=\"1\" class=\"dataframe\">\n",
       "  <thead>\n",
       "    <tr style=\"text-align: right;\">\n",
       "      <th></th>\n",
       "      <th>Cause</th>\n",
       "      <th>Effect</th>\n",
       "    </tr>\n",
       "  </thead>\n",
       "  <tbody>\n",
       "    <tr>\n",
       "      <th>0</th>\n",
       "      <td>KRT14</td>\n",
       "      <td>PAM50Call_RNAseq</td>\n",
       "    </tr>\n",
       "    <tr>\n",
       "      <th>1</th>\n",
       "      <td>PGR</td>\n",
       "      <td>PAM50Call_RNAseq</td>\n",
       "    </tr>\n",
       "    <tr>\n",
       "      <th>2</th>\n",
       "      <td>KRT17</td>\n",
       "      <td>PAM50Call_RNAseq</td>\n",
       "    </tr>\n",
       "    <tr>\n",
       "      <th>3</th>\n",
       "      <td>ESR1</td>\n",
       "      <td>PAM50Call_RNAseq</td>\n",
       "    </tr>\n",
       "    <tr>\n",
       "      <th>4</th>\n",
       "      <td>NAT1</td>\n",
       "      <td>PAM50Call_RNAseq</td>\n",
       "    </tr>\n",
       "    <tr>\n",
       "      <th>5</th>\n",
       "      <td>FOXA1</td>\n",
       "      <td>PAM50Call_RNAseq</td>\n",
       "    </tr>\n",
       "    <tr>\n",
       "      <th>6</th>\n",
       "      <td>ERBB2</td>\n",
       "      <td>PAM50Call_RNAseq</td>\n",
       "    </tr>\n",
       "  </tbody>\n",
       "</table>\n",
       "</div>"
      ],
      "text/plain": [
       "   Cause            Effect\n",
       "0  KRT14  PAM50Call_RNAseq\n",
       "1    PGR  PAM50Call_RNAseq\n",
       "2  KRT17  PAM50Call_RNAseq\n",
       "3   ESR1  PAM50Call_RNAseq\n",
       "4   NAT1  PAM50Call_RNAseq\n",
       "5  FOXA1  PAM50Call_RNAseq\n",
       "6  ERBB2  PAM50Call_RNAseq"
      ]
     },
     "metadata": {},
     "output_type": "display_data"
    },
    {
     "data": {
      "text/html": [
       "<div>\n",
       "<style scoped>\n",
       "    .dataframe tbody tr th:only-of-type {\n",
       "        vertical-align: middle;\n",
       "    }\n",
       "\n",
       "    .dataframe tbody tr th {\n",
       "        vertical-align: top;\n",
       "    }\n",
       "\n",
       "    .dataframe thead th {\n",
       "        text-align: right;\n",
       "    }\n",
       "</style>\n",
       "<table border=\"1\" class=\"dataframe\">\n",
       "  <thead>\n",
       "    <tr style=\"text-align: right;\">\n",
       "      <th></th>\n",
       "      <th>Cause</th>\n",
       "      <th>Effect</th>\n",
       "    </tr>\n",
       "  </thead>\n",
       "  <tbody>\n",
       "    <tr>\n",
       "      <th>0</th>\n",
       "      <td>PGR</td>\n",
       "      <td>PAM50Call_RNAseq</td>\n",
       "    </tr>\n",
       "    <tr>\n",
       "      <th>1</th>\n",
       "      <td>MAPT</td>\n",
       "      <td>PAM50Call_RNAseq</td>\n",
       "    </tr>\n",
       "  </tbody>\n",
       "</table>\n",
       "</div>"
      ],
      "text/plain": [
       "  Cause            Effect\n",
       "0   PGR  PAM50Call_RNAseq\n",
       "1  MAPT  PAM50Call_RNAseq"
      ]
     },
     "metadata": {},
     "output_type": "display_data"
    },
    {
     "data": {
      "text/html": [
       "<div>\n",
       "<style scoped>\n",
       "    .dataframe tbody tr th:only-of-type {\n",
       "        vertical-align: middle;\n",
       "    }\n",
       "\n",
       "    .dataframe tbody tr th {\n",
       "        vertical-align: top;\n",
       "    }\n",
       "\n",
       "    .dataframe thead th {\n",
       "        text-align: right;\n",
       "    }\n",
       "</style>\n",
       "<table border=\"1\" class=\"dataframe\">\n",
       "  <thead>\n",
       "    <tr style=\"text-align: right;\">\n",
       "      <th></th>\n",
       "      <th>Cause</th>\n",
       "      <th>Effect</th>\n",
       "    </tr>\n",
       "  </thead>\n",
       "  <tbody>\n",
       "    <tr>\n",
       "      <th>0</th>\n",
       "      <td>NAT1</td>\n",
       "      <td>PAM50Call_RNAseq</td>\n",
       "    </tr>\n",
       "  </tbody>\n",
       "</table>\n",
       "</div>"
      ],
      "text/plain": [
       "  Cause            Effect\n",
       "0  NAT1  PAM50Call_RNAseq"
      ]
     },
     "metadata": {},
     "output_type": "display_data"
    }
   ],
   "source": [
    "ges_df = pd.DataFrame(ges_list);\n",
    "display(ges_df);\n",
    "\n",
    "fci_df = pd.DataFrame(fci_list);\n",
    "display(fci_df);\n",
    "\n",
    "pc_df = pd.DataFrame(pc_list);\n",
    "display(pc_df);\n",
    "\n",
    "#Save the results\n",
    "ges_output_file_name = \"ges_output_file.csv\";\n",
    "fci_output_file_name = \"fci_output_file.csv\";\n",
    "pc_output_file_name = \"pc_output_file.csv\";\n",
    "\n",
    "ges_df.to_csv(file_path+ges_output_file_name,index=None);\n",
    "fci_df.to_csv(file_path+fci_output_file_name,index=None);\n",
    "pc_df.to_csv(file_path+pc_output_file_name,index=None);"
   ]
  },
  {
   "cell_type": "code",
   "execution_count": null,
   "id": "877dd5af-e8ab-4260-bb0e-69377ca117bc",
   "metadata": {},
   "outputs": [],
   "source": []
  },
  {
   "cell_type": "code",
   "execution_count": null,
   "id": "ae9792c9-4921-489c-bc50-acaff62135ae",
   "metadata": {},
   "outputs": [],
   "source": []
  },
  {
   "cell_type": "code",
   "execution_count": null,
   "id": "459627f6-e262-4192-b28e-5e0347bca2b7",
   "metadata": {
    "tags": []
   },
   "outputs": [],
   "source": [
    "# temp_dataset = dataset.iloc[:, :10];\n",
    "\n",
    "# temp_data_mat = temp_dataset.to_numpy();\n",
    "\n",
    "# # Run PC with: stable=True, uc_rule=0 (uc_sepset), uc_priority=1 (orient bi-directed)\n",
    "# cg = pc(temp_data_mat, 0.05, fisherz, True, 0, 1)\n",
    "# for edge in cg.G.get_graph_edges():\n",
    "#     edge = str(edge);\n",
    "    \n",
    "#     if \" --> \" in edge:\n",
    "#         edge_strs = edge.split(\" --> \");\n",
    "#         node1_name = int(edge_strs[0].replace('X', ''))-1;\n",
    "#         node2_name = int(edge_strs[1].replace('X', ''))-1;\n",
    "#         print(edge);\n",
    "        \n",
    "#         node1_name = index_name_mapping[node1_name];\n",
    "#         node2_name = index_name_mapping[node2_name];\n",
    "\n",
    "#         if node2_name == \"PAM50Call_RNAseq\" and node1_name in PAM50GenesList:\n",
    "#             print(node1_name+\"->\"+node2_name);"
   ]
  },
  {
   "cell_type": "code",
   "execution_count": 4,
   "id": "cd53948c-05ae-47aa-b883-c6a861af5a20",
   "metadata": {
    "tags": []
   },
   "outputs": [
    {
     "data": {
      "text/plain": [
       "\"\\n{0: 'X30', 1: 'X9', 2: 'X16', 3: 'X14', 4: 'X7', 5: 'X17', 6: 'X28', 7: 'X5', 8: 'X21', 9: 'X6', 10: 'X2', 11: 'X12'\\n , 12: 'X29', 13: 'X27', 14: 'X25', 15: 'X22', 16: 'X26', 17: 'X15', 18: 'X8', 19: 'X24', 20: 'X1', 21: 'X3', 22: 'X18'\\n , 23: 'X4', 24: 'X19', 25: 'X20', 26: 'X10', 27: 'X23', 28: 'X11', 29: 'X13', 30: 'X31', 31: 'X39', 32: 'X32'\\n , 33: 'X40', 34: 'X33', 35: 'X41', 36: 'X34', 37: 'X42', 38: 'X35', 39: 'X43', 40: 'X36', 41: 'X44', 42: 'X37', 43: 'X45'\\n , 44: 'X38', 45: 'X46', 46: 'X47', 47: 'X48', 48: 'X49', 49: 'X50'}\\n\\n{0: True, 1: True, 2: False, 3: False, 4: True, 5: False, 6: False, 7: False, 8: True, 9: False, 10: True, 11: True\\n , 12: True, 13: True, 14: True, 15: True, 16: True, 17: False, 18: False, 19: False, 20: False, 21: True, 22: False\\n , 23: False, 24: False, 25: False, 26: True, 27: False, 28: True, 29: True, 30: False, 31: False, 32: False\\n , 33: False, 34: False, 35: False, 36: False, 37: False, 38: False, 39: False, 40: False, 41: False, 42: False\\n , 43: False, 44: False, 45: False, 46: False, 47: False, 48: False, 49: False}\\n \\n[(30, 31), (31, 46), (32, 33), (34, 35), (36, 37), (38, 39), (40, 41), (42, 43), (44, 45), (47, 49), (48, 49), (1, 12)\\n , (1, 17), (1, 3), (1, 5), (1, 25), (17, 25), (17, 5), (3, 13), (3, 22), (5, 25), (5, 16), (5, 14), (5, 6), (25, 19)\\n , (25, 14), (28, 25), (28, 15), (28, 12), (28, 2), (15, 13), (2, 27), (19, 0), (11, 19), (11, 2), (11, 5), (26, 16)\\n , (26, 27), (26, 29), (27, 12), (21, 0), (21, 18), (21, 11), (21, 17), (21, 25), (21, 19), (18, 26), (18, 28), (18, 2)\\n , (13, 0), (22, 8), (22, 16), (8, 15), (8, 14), (20, 23), (20, 9), (20, 17), (20, 24), (20, 16), (23, 9), (23, 15)\\n , (9, 15), (10, 26), (10, 3), (10, 15), (10, 16), (7, 26), (7, 25), (7, 12), (4, 24), (4, 8)]\\n \\n\""
      ]
     },
     "execution_count": 4,
     "metadata": {},
     "output_type": "execute_result"
    }
   ],
   "source": [
    "# 14---25___Incorrect filtering using independence tests..........................................\n",
    "# 30---31___Incorrect filtering using independence tests..........................................\n",
    "# 5---16___Incorrect filtering using independence tests..........................................\n",
    "# 5---11___Incorrect filtering using independence tests..........................................\n",
    "# 1---5___Incorrect filtering using independence tests..........................................\n",
    "# 20---24___Incorrect filtering using independence tests..........................................\n",
    "'''\n",
    "{0: 'X30', 1: 'X9', 2: 'X16', 3: 'X14', 4: 'X7', 5: 'X17', 6: 'X28', 7: 'X5', 8: 'X21', 9: 'X6', 10: 'X2', 11: 'X12'\n",
    " , 12: 'X29', 13: 'X27', 14: 'X25', 15: 'X22', 16: 'X26', 17: 'X15', 18: 'X8', 19: 'X24', 20: 'X1', 21: 'X3', 22: 'X18'\n",
    " , 23: 'X4', 24: 'X19', 25: 'X20', 26: 'X10', 27: 'X23', 28: 'X11', 29: 'X13', 30: 'X31', 31: 'X39', 32: 'X32'\n",
    " , 33: 'X40', 34: 'X33', 35: 'X41', 36: 'X34', 37: 'X42', 38: 'X35', 39: 'X43', 40: 'X36', 41: 'X44', 42: 'X37', 43: 'X45'\n",
    " , 44: 'X38', 45: 'X46', 46: 'X47', 47: 'X48', 48: 'X49', 49: 'X50'}\n",
    "\n",
    "{0: True, 1: True, 2: False, 3: False, 4: True, 5: False, 6: False, 7: False, 8: True, 9: False, 10: True, 11: True\n",
    " , 12: True, 13: True, 14: True, 15: True, 16: True, 17: False, 18: False, 19: False, 20: False, 21: True, 22: False\n",
    " , 23: False, 24: False, 25: False, 26: True, 27: False, 28: True, 29: True, 30: False, 31: False, 32: False\n",
    " , 33: False, 34: False, 35: False, 36: False, 37: False, 38: False, 39: False, 40: False, 41: False, 42: False\n",
    " , 43: False, 44: False, 45: False, 46: False, 47: False, 48: False, 49: False}\n",
    " \n",
    "[(30, 31), (31, 46), (32, 33), (34, 35), (36, 37), (38, 39), (40, 41), (42, 43), (44, 45), (47, 49), (48, 49), (1, 12)\n",
    " , (1, 17), (1, 3), (1, 5), (1, 25), (17, 25), (17, 5), (3, 13), (3, 22), (5, 25), (5, 16), (5, 14), (5, 6), (25, 19)\n",
    " , (25, 14), (28, 25), (28, 15), (28, 12), (28, 2), (15, 13), (2, 27), (19, 0), (11, 19), (11, 2), (11, 5), (26, 16)\n",
    " , (26, 27), (26, 29), (27, 12), (21, 0), (21, 18), (21, 11), (21, 17), (21, 25), (21, 19), (18, 26), (18, 28), (18, 2)\n",
    " , (13, 0), (22, 8), (22, 16), (8, 15), (8, 14), (20, 23), (20, 9), (20, 17), (20, 24), (20, 16), (23, 9), (23, 15)\n",
    " , (9, 15), (10, 26), (10, 3), (10, 15), (10, 16), (7, 26), (7, 25), (7, 12), (4, 24), (4, 8)]\n",
    " \n",
    "'''\n",
    "#X20->X25, not a real causal relation\n",
    "# x_label = 'X20';continuouse  25\n",
    "# y_label = 'X25';discrete 14\n",
    "\n",
    "# #30 31, X31->X39, a real causal relation  SOLVED\n",
    "# x_label = 'X31';# continuous 30\n",
    "# y_label = 'X39';# continuous 31\n",
    "\n",
    "# #5->11, not a real causal relation\n",
    "# x_label = 'X17';#  continuous 5\n",
    "# y_label = 'X12';#  discrete 11\n",
    "\n",
    "# #1->5, a real causal relation\n",
    "# x_label = 'X9';# discrete 1\n",
    "# y_label = 'X17';#  continuous 5\n",
    "\n",
    "# #5->16, a real causal relation\n",
    "# x_label = 'X17';#  continuous 5\n",
    "# y_label = 'X26';#  discrete 16\n",
    "\n",
    "# #20->24, a real causal relation\n",
    "# x_label = 'X1';# continuous 20\n",
    "# y_label = 'X19';# continuous 24\n",
    "\n",
    "# sns.regplot(data=mixed_nonlinear_sim_data, x=x_label, y=y_label, robust=True);"
   ]
  }
 ],
 "metadata": {
  "kernelspec": {
   "display_name": "Python 3 (ipykernel)",
   "language": "python",
   "name": "python3"
  },
  "language_info": {
   "codemirror_mode": {
    "name": "ipython",
    "version": 3
   },
   "file_extension": ".py",
   "mimetype": "text/x-python",
   "name": "python",
   "nbconvert_exporter": "python",
   "pygments_lexer": "ipython3",
   "version": "3.11.5"
  }
 },
 "nbformat": 4,
 "nbformat_minor": 5
}
