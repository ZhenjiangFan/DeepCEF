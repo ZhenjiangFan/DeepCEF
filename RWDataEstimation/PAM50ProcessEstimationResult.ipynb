{
 "cells": [
  {
   "cell_type": "code",
   "execution_count": 27,
   "id": "15389448-91dd-4720-b5e3-ae77fbf7c0f8",
   "metadata": {
    "tags": []
   },
   "outputs": [],
   "source": [
    "import numpy as np\n",
    "import pandas as pd\n",
    "import networkx as nx"
   ]
  },
  {
   "cell_type": "code",
   "execution_count": 29,
   "id": "4a23506c-6276-40d9-9006-466ef9946864",
   "metadata": {
    "tags": []
   },
   "outputs": [
    {
     "data": {
      "text/html": [
       "<div>\n",
       "<style scoped>\n",
       "    .dataframe tbody tr th:only-of-type {\n",
       "        vertical-align: middle;\n",
       "    }\n",
       "\n",
       "    .dataframe tbody tr th {\n",
       "        vertical-align: top;\n",
       "    }\n",
       "\n",
       "    .dataframe thead th {\n",
       "        text-align: right;\n",
       "    }\n",
       "</style>\n",
       "<table border=\"1\" class=\"dataframe\">\n",
       "  <thead>\n",
       "    <tr style=\"text-align: right;\">\n",
       "      <th></th>\n",
       "      <th>Estimation</th>\n",
       "    </tr>\n",
       "  </thead>\n",
       "  <tbody>\n",
       "    <tr>\n",
       "      <th>PAM50Call_RNAseq_causes_CLEC3A</th>\n",
       "      <td>1</td>\n",
       "    </tr>\n",
       "    <tr>\n",
       "      <th>CLEC3A_causes_PAM50Call_RNAseq</th>\n",
       "      <td>1</td>\n",
       "    </tr>\n",
       "    <tr>\n",
       "      <th>PAM50Call_RNAseq_causes_CPB1</th>\n",
       "      <td>1</td>\n",
       "    </tr>\n",
       "    <tr>\n",
       "      <th>CPB1_causes_PAM50Call_RNAseq</th>\n",
       "      <td>1</td>\n",
       "    </tr>\n",
       "    <tr>\n",
       "      <th>PAM50Call_RNAseq_causes_SCGB2A2</th>\n",
       "      <td>1</td>\n",
       "    </tr>\n",
       "    <tr>\n",
       "      <th>...</th>\n",
       "      <td>...</td>\n",
       "    </tr>\n",
       "    <tr>\n",
       "      <th>LOC440905_causes_PAM50Call_RNAseq</th>\n",
       "      <td>1</td>\n",
       "    </tr>\n",
       "    <tr>\n",
       "      <th>PAM50Call_RNAseq_causes_CDH1</th>\n",
       "      <td>1</td>\n",
       "    </tr>\n",
       "    <tr>\n",
       "      <th>CDH1_causes_PAM50Call_RNAseq</th>\n",
       "      <td>1</td>\n",
       "    </tr>\n",
       "    <tr>\n",
       "      <th>PAM50Call_RNAseq_causes_ERBB2</th>\n",
       "      <td>1</td>\n",
       "    </tr>\n",
       "    <tr>\n",
       "      <th>ERBB2_causes_PAM50Call_RNAseq</th>\n",
       "      <td>1</td>\n",
       "    </tr>\n",
       "  </tbody>\n",
       "</table>\n",
       "<p>994 rows × 1 columns</p>\n",
       "</div>"
      ],
      "text/plain": [
       "                                   Estimation\n",
       "PAM50Call_RNAseq_causes_CLEC3A              1\n",
       "CLEC3A_causes_PAM50Call_RNAseq              1\n",
       "PAM50Call_RNAseq_causes_CPB1                1\n",
       "CPB1_causes_PAM50Call_RNAseq                1\n",
       "PAM50Call_RNAseq_causes_SCGB2A2             1\n",
       "...                                       ...\n",
       "LOC440905_causes_PAM50Call_RNAseq           1\n",
       "PAM50Call_RNAseq_causes_CDH1                1\n",
       "CDH1_causes_PAM50Call_RNAseq                1\n",
       "PAM50Call_RNAseq_causes_ERBB2               1\n",
       "ERBB2_causes_PAM50Call_RNAseq               1\n",
       "\n",
       "[994 rows x 1 columns]"
      ]
     },
     "metadata": {},
     "output_type": "display_data"
    }
   ],
   "source": [
    "file_path = \"PAM50/\";\n",
    "score_data_output_file_name = \"score_test_result_reindexed.csv\";\n",
    "\n",
    "estimation_result_file_name = \"estimation_result_mlp.csv\";\n",
    "output_file_name = \"mlp_output_file.csv\";\n",
    "\n",
    "# estimation_result_file_name = \"estimation_result_svm.csv\";\n",
    "# output_file_name = \"svm_output_file.csv\";\n",
    "\n",
    "estimation_result = pd.read_csv(file_path+estimation_result_file_name,index_col=0);\n",
    "display(estimation_result);"
   ]
  },
  {
   "cell_type": "code",
   "execution_count": 31,
   "id": "2df563b5-2090-4bf2-b6bd-28026b126b9a",
   "metadata": {
    "tags": []
   },
   "outputs": [
    {
     "data": {
      "text/plain": [
       "['ACTR3B',\n",
       " 'ANLN',\n",
       " 'BAG1',\n",
       " 'BCL2',\n",
       " 'BIRC5',\n",
       " 'BLVRA',\n",
       " 'CCNB1',\n",
       " 'CCNE1',\n",
       " 'CDC20',\n",
       " 'CDC6',\n",
       " 'CDH3',\n",
       " 'CENPF',\n",
       " 'CEP55',\n",
       " 'CXXC5',\n",
       " 'EGFR',\n",
       " 'ERBB2',\n",
       " 'ESR1',\n",
       " 'EXO1',\n",
       " 'FGFR4',\n",
       " 'FOXA1',\n",
       " 'FOXC1',\n",
       " 'GPR160',\n",
       " 'GRB7',\n",
       " 'KIF2C',\n",
       " 'KRT14',\n",
       " 'KRT17',\n",
       " 'KRT5',\n",
       " 'MAPT',\n",
       " 'MDM2',\n",
       " 'MELK',\n",
       " 'MIA',\n",
       " 'MKI67',\n",
       " 'MLPH',\n",
       " 'MMP11',\n",
       " 'MYBL2',\n",
       " 'MYC',\n",
       " 'NAT1',\n",
       " 'NDC80',\n",
       " 'NUF2',\n",
       " 'ORC6L',\n",
       " 'PGR',\n",
       " 'PHGDH',\n",
       " 'PTTG1',\n",
       " 'RRM2',\n",
       " 'SFRP1',\n",
       " 'SLC39A6',\n",
       " 'TMEM45B',\n",
       " 'TYMS',\n",
       " 'UBE2C',\n",
       " 'UBE2T']"
      ]
     },
     "execution_count": 31,
     "metadata": {},
     "output_type": "execute_result"
    }
   ],
   "source": [
    "PAM50GenesStr = \"ACTR3B, ANLN, BAG1, BCL2, BIRC5, BLVRA, CCNB1, CCNE1, CDC20, CDC6, CDH3, CENPF, CEP55, CXXC5, EGFR, ERBB2, ESR1, EXO1, FGFR4, FOXA1, FOXC1, GPR160, GRB7, KIF2C, KRT14, KRT17, KRT5, MAPT, MDM2, MELK, MIA, MKI67, MLPH, MMP11, MYBL2, MYC, NAT1, NDC80, NUF2, ORC6L, PGR, PHGDH, PTTG1, RRM2, SFRP1, SLC39A6, TMEM45B, TYMS, UBE2C, UBE2T\";\n",
    "PAM50GenesList = list(PAM50GenesStr.split(\", \"));\n",
    "PAM50GenesList"
   ]
  },
  {
   "cell_type": "code",
   "execution_count": 33,
   "id": "7bedd210-8170-4e0c-aac1-32ccac6803fd",
   "metadata": {
    "tags": []
   },
   "outputs": [
    {
     "name": "stdout",
     "output_type": "stream",
     "text": [
      "KRT14->PAM50Call_RNAseq\n",
      "KRT5->PAM50Call_RNAseq\n",
      "PGR->PAM50Call_RNAseq\n",
      "KRT17->PAM50Call_RNAseq\n",
      "ESR1->PAM50Call_RNAseq\n",
      "MIA->PAM50Call_RNAseq\n",
      "SFRP1->PAM50Call_RNAseq\n",
      "NAT1->PAM50Call_RNAseq\n",
      "FOXA1->PAM50Call_RNAseq\n",
      "MAPT->PAM50Call_RNAseq\n",
      "ERBB2->PAM50Call_RNAseq\n"
     ]
    }
   ],
   "source": [
    "result_list = [];\n",
    "for index,row in estimation_result.iterrows():\n",
    "    idx_strs = index.split(\"_causes_\");\n",
    "    \n",
    "    node1_name = idx_strs[0];\n",
    "    node2_name = idx_strs[1];\n",
    "    # print(index);\n",
    "    if node2_name == \"PAM50Call_RNAseq\" and node1_name in PAM50GenesList:\n",
    "        print(node1_name+\"->\"+node2_name);\n",
    "        result_list.append({\"Cause\":node1_name,\"Effect\":node2_name});"
   ]
  },
  {
   "cell_type": "code",
   "execution_count": 35,
   "id": "2fd7283a-6163-4bba-bec8-e07dc99afdbd",
   "metadata": {
    "tags": []
   },
   "outputs": [
    {
     "data": {
      "text/html": [
       "<div>\n",
       "<style scoped>\n",
       "    .dataframe tbody tr th:only-of-type {\n",
       "        vertical-align: middle;\n",
       "    }\n",
       "\n",
       "    .dataframe tbody tr th {\n",
       "        vertical-align: top;\n",
       "    }\n",
       "\n",
       "    .dataframe thead th {\n",
       "        text-align: right;\n",
       "    }\n",
       "</style>\n",
       "<table border=\"1\" class=\"dataframe\">\n",
       "  <thead>\n",
       "    <tr style=\"text-align: right;\">\n",
       "      <th></th>\n",
       "      <th>Cause</th>\n",
       "      <th>Effect</th>\n",
       "    </tr>\n",
       "  </thead>\n",
       "  <tbody>\n",
       "    <tr>\n",
       "      <th>0</th>\n",
       "      <td>KRT14</td>\n",
       "      <td>PAM50Call_RNAseq</td>\n",
       "    </tr>\n",
       "    <tr>\n",
       "      <th>1</th>\n",
       "      <td>KRT5</td>\n",
       "      <td>PAM50Call_RNAseq</td>\n",
       "    </tr>\n",
       "    <tr>\n",
       "      <th>2</th>\n",
       "      <td>PGR</td>\n",
       "      <td>PAM50Call_RNAseq</td>\n",
       "    </tr>\n",
       "    <tr>\n",
       "      <th>3</th>\n",
       "      <td>KRT17</td>\n",
       "      <td>PAM50Call_RNAseq</td>\n",
       "    </tr>\n",
       "    <tr>\n",
       "      <th>4</th>\n",
       "      <td>ESR1</td>\n",
       "      <td>PAM50Call_RNAseq</td>\n",
       "    </tr>\n",
       "    <tr>\n",
       "      <th>5</th>\n",
       "      <td>MIA</td>\n",
       "      <td>PAM50Call_RNAseq</td>\n",
       "    </tr>\n",
       "    <tr>\n",
       "      <th>6</th>\n",
       "      <td>SFRP1</td>\n",
       "      <td>PAM50Call_RNAseq</td>\n",
       "    </tr>\n",
       "    <tr>\n",
       "      <th>7</th>\n",
       "      <td>NAT1</td>\n",
       "      <td>PAM50Call_RNAseq</td>\n",
       "    </tr>\n",
       "    <tr>\n",
       "      <th>8</th>\n",
       "      <td>FOXA1</td>\n",
       "      <td>PAM50Call_RNAseq</td>\n",
       "    </tr>\n",
       "    <tr>\n",
       "      <th>9</th>\n",
       "      <td>MAPT</td>\n",
       "      <td>PAM50Call_RNAseq</td>\n",
       "    </tr>\n",
       "    <tr>\n",
       "      <th>10</th>\n",
       "      <td>ERBB2</td>\n",
       "      <td>PAM50Call_RNAseq</td>\n",
       "    </tr>\n",
       "  </tbody>\n",
       "</table>\n",
       "</div>"
      ],
      "text/plain": [
       "    Cause            Effect\n",
       "0   KRT14  PAM50Call_RNAseq\n",
       "1    KRT5  PAM50Call_RNAseq\n",
       "2     PGR  PAM50Call_RNAseq\n",
       "3   KRT17  PAM50Call_RNAseq\n",
       "4    ESR1  PAM50Call_RNAseq\n",
       "5     MIA  PAM50Call_RNAseq\n",
       "6   SFRP1  PAM50Call_RNAseq\n",
       "7    NAT1  PAM50Call_RNAseq\n",
       "8   FOXA1  PAM50Call_RNAseq\n",
       "9    MAPT  PAM50Call_RNAseq\n",
       "10  ERBB2  PAM50Call_RNAseq"
      ]
     },
     "metadata": {},
     "output_type": "display_data"
    }
   ],
   "source": [
    "result_df = pd.DataFrame(result_list);\n",
    "display(result_df);\n",
    "\n",
    "result_df.to_csv(file_path+output_file_name,index=None);"
   ]
  },
  {
   "cell_type": "code",
   "execution_count": null,
   "id": "ecdeedcb-3b6c-44f7-9700-db68af00f237",
   "metadata": {},
   "outputs": [],
   "source": []
  }
 ],
 "metadata": {
  "kernelspec": {
   "display_name": "Python 3 (ipykernel)",
   "language": "python",
   "name": "python3"
  },
  "language_info": {
   "codemirror_mode": {
    "name": "ipython",
    "version": 3
   },
   "file_extension": ".py",
   "mimetype": "text/x-python",
   "name": "python",
   "nbconvert_exporter": "python",
   "pygments_lexer": "ipython3",
   "version": "3.11.5"
  }
 },
 "nbformat": 4,
 "nbformat_minor": 5
}
